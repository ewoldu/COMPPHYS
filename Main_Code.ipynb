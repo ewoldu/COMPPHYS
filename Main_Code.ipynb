{
 "cells": [
  {
   "cell_type": "code",
   "execution_count": 1,
   "id": "b91cd946-0c4f-4de5-b103-a7a251ecac93",
   "metadata": {},
   "outputs": [],
   "source": [
    "import numpy as np\n",
    "import matplotlib.pyplot as plt\n",
    "import h5py\n",
    "from keras.models import Sequential\n",
    "from keras.losses import Loss\n",
    "from sklearn.model_selection import train_test_split\n",
    "from keras.layers import Dense\n",
    "import scipy"
   ]
  },
  {
   "cell_type": "code",
   "execution_count": 2,
   "id": "7a15dfb3-1db2-40fb-b85a-a8579276b5bf",
   "metadata": {},
   "outputs": [],
   "source": [
    "# class KL_Divergence(Loss):\n",
    "#     def call(self, y_true, y_pred\n",
    "\n",
    "def neighbors_sum(lattice, i, j):\n",
    "    '''\n",
    "    Sums the spins of the lattice points at four neighbor sites to site (i,j).\n",
    "        Takes into account the size of the lattice in \n",
    "        terms of number of rows (i) and columns (j),\n",
    "        thus implementing periodic boundary conditions.\n",
    "    '''\n",
    "    latticesum = 0\n",
    "    cell = 0\n",
    "    if i > 0: #Up direction\n",
    "        latticesum += lattice[i-1,j]\n",
    "    else:\n",
    "        latticesum += lattice[lattice.shape[0] - 1, j] #Periodic Boundary Condition\n",
    "    if j < lattice.shape[1] - 1: #Right direction\n",
    "        latticesum = lattice[i,j+1]\n",
    "    else:\n",
    "        latticesum = lattice[i,0] #Periodic Boundary Condition\n",
    "    if i < lattice.shape[0] - 1: #Down direction\n",
    "        latticesum = lattice[i+1,j]\n",
    "    else:\n",
    "        latticesum = lattice[0,j] #Periodic Boundary Condition\n",
    "    if j > 0: #Left Direction\n",
    "        latticesum += lattice[i,j-1]\n",
    "    else:\n",
    "        latticesum += lattice[i,lattice.shape[1] - 1] #Periodic Boundary Condition\n",
    "\n",
    "    return latticesum\n",
    "\n",
    "def local_energy(lattice, J, i, j):\n",
    "    '''\n",
    "    Calculates the energy of a specific point (i, j) on the lattice\n",
    "    by adding up its interaction with each of its nearest neighbors\n",
    "    according to E = -J * sum(s_ij*s_neighbor).\n",
    "    '''\n",
    "    #Every term of the sum has s_ij in it, so we can factor it out\n",
    "    return -1 * J * lattice[i,j] * neighbors_sum(lattice, i, j)\n",
    "\n",
    "def total_energy(lattice, J):\n",
    "    '''\n",
    "    Calculates the total energy of the lattice by counting all of the\n",
    "    interactions while making sure that no interactions are double counted.\n",
    "    Do so by calculating the local energy of every other lattice point\n",
    "    '''\n",
    "    energy_sum = 0\n",
    "    for i in range(lattice.shape[0]):\n",
    "        for j in range(lattice.shape[1]):\n",
    "            if (i + j) % 2 == 0:\n",
    "                energy_sum += local_energy(lattice, J, i, j)\n",
    "    return energy_sum\n",
    "\n",
    "def energy(N,M,nums):\n",
    "    energies = []\n",
    "    for n in nums:\n",
    "        lattice = np.empty((N,M))\n",
    "        for r in range(N):\n",
    "            for c in range(M):\n",
    "                if (n // 2**(M*r + c)) % 2:\n",
    "                    lattice[r,c] = 1\n",
    "                else:\n",
    "                    lattice[r,c] = -1\n",
    "        energies.append(total_energy(lattice, 1))\n",
    "    return np.array(energies)"
   ]
  },
  {
   "cell_type": "code",
   "execution_count": 3,
   "id": "eee151da-a723-4e78-9401-d38c8ea1958e",
   "metadata": {},
   "outputs": [
    {
     "name": "stdout",
     "output_type": "stream",
     "text": [
      "42058\n",
      "100000\n"
     ]
    }
   ],
   "source": [
    "length = 5\n",
    "width = 5\n",
    "X = np.random.choice(2**(length*width), size=100000, replace=False)\n",
    "#X = np.arange(2**9)\n",
    "n_train = int(.9 * (X.shape[0]))\n",
    "n_test = X.shape[0] - n_train\n",
    "#energies = np.exp((-1)*energy(length,width,X)/(scipy.constants.k*300))\n",
    "energies = -energy(length,width,X)\n",
    "avg = np.median(energies)\n",
    "y = energies > avg\n",
    "y = 1*y\n",
    "count = 0\n",
    "for l in y:\n",
    "    if l == 1:\n",
    "        count+=1\n",
    "print(count)\n",
    "print((y.shape[0]))\n",
    "X = np.array(X)[np.newaxis].T\n",
    "X_train, X_test, y_train, y_test, = train_test_split(X, y, test_size=n_test, random_state=1)"
   ]
  },
  {
   "cell_type": "code",
   "execution_count": 4,
   "id": "6d018bca-0410-4abe-bde2-85b88c1d190c",
   "metadata": {},
   "outputs": [
    {
     "name": "stderr",
     "output_type": "stream",
     "text": [
      "/opt/anaconda3/lib/python3.11/site-packages/keras/src/layers/core/dense.py:87: UserWarning: Do not pass an `input_shape`/`input_dim` argument to a layer. When using Sequential models, prefer using an `Input(shape)` object as the first layer in the model instead.\n",
      "  super().__init__(activity_regularizer=activity_regularizer, **kwargs)\n"
     ]
    }
   ],
   "source": [
    "model = Sequential()\n",
    "\n",
    "# Since our samples are only the X values (of either signal or background), the first layer just has one input dimension\n",
    "model.add(Dense(1, input_dim=1, kernel_initializer='normal', activation='relu'))\n",
    "\n",
    "# We then implement only one hidden layer with 8 neurons (you can experiment with changing this number)\n",
    "n_neurons_hidden = 8\n",
    "model.add(Dense(n_neurons_hidden, kernel_initializer='normal', activation='relu'))\n",
    "\n",
    "# Finally we add one output layer\n",
    "model.add(Dense(1, kernel_initializer='normal', activation='sigmoid'))"
   ]
  },
  {
   "cell_type": "code",
   "execution_count": 5,
   "id": "38366fe6-e28a-44b1-a10e-ea21a7143ed1",
   "metadata": {},
   "outputs": [
    {
     "data": {
      "text/html": [
       "<pre style=\"white-space:pre;overflow-x:auto;line-height:normal;font-family:Menlo,'DejaVu Sans Mono',consolas,'Courier New',monospace\"><span style=\"font-weight: bold\">Model: \"sequential\"</span>\n",
       "</pre>\n"
      ],
      "text/plain": [
       "\u001b[1mModel: \"sequential\"\u001b[0m\n"
      ]
     },
     "metadata": {},
     "output_type": "display_data"
    },
    {
     "data": {
      "text/html": [
       "<pre style=\"white-space:pre;overflow-x:auto;line-height:normal;font-family:Menlo,'DejaVu Sans Mono',consolas,'Courier New',monospace\">┏━━━━━━━━━━━━━━━━━━━━━━━━━━━━━━━━━┳━━━━━━━━━━━━━━━━━━━━━━━━┳━━━━━━━━━━━━━━━┓\n",
       "┃<span style=\"font-weight: bold\"> Layer (type)                    </span>┃<span style=\"font-weight: bold\"> Output Shape           </span>┃<span style=\"font-weight: bold\">       Param # </span>┃\n",
       "┡━━━━━━━━━━━━━━━━━━━━━━━━━━━━━━━━━╇━━━━━━━━━━━━━━━━━━━━━━━━╇━━━━━━━━━━━━━━━┩\n",
       "│ dense (<span style=\"color: #0087ff; text-decoration-color: #0087ff\">Dense</span>)                   │ (<span style=\"color: #00d7ff; text-decoration-color: #00d7ff\">None</span>, <span style=\"color: #00af00; text-decoration-color: #00af00\">1</span>)              │             <span style=\"color: #00af00; text-decoration-color: #00af00\">2</span> │\n",
       "├─────────────────────────────────┼────────────────────────┼───────────────┤\n",
       "│ dense_1 (<span style=\"color: #0087ff; text-decoration-color: #0087ff\">Dense</span>)                 │ (<span style=\"color: #00d7ff; text-decoration-color: #00d7ff\">None</span>, <span style=\"color: #00af00; text-decoration-color: #00af00\">8</span>)              │            <span style=\"color: #00af00; text-decoration-color: #00af00\">16</span> │\n",
       "├─────────────────────────────────┼────────────────────────┼───────────────┤\n",
       "│ dense_2 (<span style=\"color: #0087ff; text-decoration-color: #0087ff\">Dense</span>)                 │ (<span style=\"color: #00d7ff; text-decoration-color: #00d7ff\">None</span>, <span style=\"color: #00af00; text-decoration-color: #00af00\">8</span>)              │            <span style=\"color: #00af00; text-decoration-color: #00af00\">72</span> │\n",
       "├─────────────────────────────────┼────────────────────────┼───────────────┤\n",
       "│ dense_3 (<span style=\"color: #0087ff; text-decoration-color: #0087ff\">Dense</span>)                 │ (<span style=\"color: #00d7ff; text-decoration-color: #00d7ff\">None</span>, <span style=\"color: #00af00; text-decoration-color: #00af00\">8</span>)              │            <span style=\"color: #00af00; text-decoration-color: #00af00\">72</span> │\n",
       "├─────────────────────────────────┼────────────────────────┼───────────────┤\n",
       "│ dense_4 (<span style=\"color: #0087ff; text-decoration-color: #0087ff\">Dense</span>)                 │ (<span style=\"color: #00d7ff; text-decoration-color: #00d7ff\">None</span>, <span style=\"color: #00af00; text-decoration-color: #00af00\">1</span>)              │             <span style=\"color: #00af00; text-decoration-color: #00af00\">9</span> │\n",
       "└─────────────────────────────────┴────────────────────────┴───────────────┘\n",
       "</pre>\n"
      ],
      "text/plain": [
       "┏━━━━━━━━━━━━━━━━━━━━━━━━━━━━━━━━━┳━━━━━━━━━━━━━━━━━━━━━━━━┳━━━━━━━━━━━━━━━┓\n",
       "┃\u001b[1m \u001b[0m\u001b[1mLayer (type)                   \u001b[0m\u001b[1m \u001b[0m┃\u001b[1m \u001b[0m\u001b[1mOutput Shape          \u001b[0m\u001b[1m \u001b[0m┃\u001b[1m \u001b[0m\u001b[1m      Param #\u001b[0m\u001b[1m \u001b[0m┃\n",
       "┡━━━━━━━━━━━━━━━━━━━━━━━━━━━━━━━━━╇━━━━━━━━━━━━━━━━━━━━━━━━╇━━━━━━━━━━━━━━━┩\n",
       "│ dense (\u001b[38;5;33mDense\u001b[0m)                   │ (\u001b[38;5;45mNone\u001b[0m, \u001b[38;5;34m1\u001b[0m)              │             \u001b[38;5;34m2\u001b[0m │\n",
       "├─────────────────────────────────┼────────────────────────┼───────────────┤\n",
       "│ dense_1 (\u001b[38;5;33mDense\u001b[0m)                 │ (\u001b[38;5;45mNone\u001b[0m, \u001b[38;5;34m8\u001b[0m)              │            \u001b[38;5;34m16\u001b[0m │\n",
       "├─────────────────────────────────┼────────────────────────┼───────────────┤\n",
       "│ dense_2 (\u001b[38;5;33mDense\u001b[0m)                 │ (\u001b[38;5;45mNone\u001b[0m, \u001b[38;5;34m8\u001b[0m)              │            \u001b[38;5;34m72\u001b[0m │\n",
       "├─────────────────────────────────┼────────────────────────┼───────────────┤\n",
       "│ dense_3 (\u001b[38;5;33mDense\u001b[0m)                 │ (\u001b[38;5;45mNone\u001b[0m, \u001b[38;5;34m8\u001b[0m)              │            \u001b[38;5;34m72\u001b[0m │\n",
       "├─────────────────────────────────┼────────────────────────┼───────────────┤\n",
       "│ dense_4 (\u001b[38;5;33mDense\u001b[0m)                 │ (\u001b[38;5;45mNone\u001b[0m, \u001b[38;5;34m1\u001b[0m)              │             \u001b[38;5;34m9\u001b[0m │\n",
       "└─────────────────────────────────┴────────────────────────┴───────────────┘\n"
      ]
     },
     "metadata": {},
     "output_type": "display_data"
    },
    {
     "data": {
      "text/html": [
       "<pre style=\"white-space:pre;overflow-x:auto;line-height:normal;font-family:Menlo,'DejaVu Sans Mono',consolas,'Courier New',monospace\"><span style=\"font-weight: bold\"> Total params: </span><span style=\"color: #00af00; text-decoration-color: #00af00\">171</span> (684.00 B)\n",
       "</pre>\n"
      ],
      "text/plain": [
       "\u001b[1m Total params: \u001b[0m\u001b[38;5;34m171\u001b[0m (684.00 B)\n"
      ]
     },
     "metadata": {},
     "output_type": "display_data"
    },
    {
     "data": {
      "text/html": [
       "<pre style=\"white-space:pre;overflow-x:auto;line-height:normal;font-family:Menlo,'DejaVu Sans Mono',consolas,'Courier New',monospace\"><span style=\"font-weight: bold\"> Trainable params: </span><span style=\"color: #00af00; text-decoration-color: #00af00\">171</span> (684.00 B)\n",
       "</pre>\n"
      ],
      "text/plain": [
       "\u001b[1m Trainable params: \u001b[0m\u001b[38;5;34m171\u001b[0m (684.00 B)\n"
      ]
     },
     "metadata": {},
     "output_type": "display_data"
    },
    {
     "data": {
      "text/html": [
       "<pre style=\"white-space:pre;overflow-x:auto;line-height:normal;font-family:Menlo,'DejaVu Sans Mono',consolas,'Courier New',monospace\"><span style=\"font-weight: bold\"> Non-trainable params: </span><span style=\"color: #00af00; text-decoration-color: #00af00\">0</span> (0.00 B)\n",
       "</pre>\n"
      ],
      "text/plain": [
       "\u001b[1m Non-trainable params: \u001b[0m\u001b[38;5;34m0\u001b[0m (0.00 B)\n"
      ]
     },
     "metadata": {},
     "output_type": "display_data"
    }
   ],
   "source": [
    "# Compile model\n",
    "model.compile(loss='kl_divergence', optimizer='adam', metrics=['accuracy'])\n",
    "\n",
    "# Print a summary of the model structure\n",
    "model.summary()"
   ]
  },
  {
   "cell_type": "code",
   "execution_count": 6,
   "id": "42574e35-f64c-4d13-9063-a08b1e6ed70a",
   "metadata": {},
   "outputs": [
    {
     "name": "stdout",
     "output_type": "stream",
     "text": [
      "Epoch 1/10\n",
      "\u001b[1m44/44\u001b[0m \u001b[32m━━━━━━━━━━━━━━━━━━━━\u001b[0m\u001b[37m\u001b[0m \u001b[1m1s\u001b[0m 2ms/step - accuracy: 0.5219 - loss: 1.0959 - val_accuracy: 0.5819 - val_loss: 0.6861\n",
      "Epoch 2/10\n",
      "\u001b[1m44/44\u001b[0m \u001b[32m━━━━━━━━━━━━━━━━━━━━\u001b[0m\u001b[37m\u001b[0m \u001b[1m0s\u001b[0m 821us/step - accuracy: 0.5784 - loss: 0.6843 - val_accuracy: 0.5819 - val_loss: 0.6827\n",
      "Epoch 3/10\n",
      "\u001b[1m44/44\u001b[0m \u001b[32m━━━━━━━━━━━━━━━━━━━━\u001b[0m\u001b[37m\u001b[0m \u001b[1m0s\u001b[0m 750us/step - accuracy: 0.5793 - loss: 0.6834 - val_accuracy: 0.5819 - val_loss: 0.6824\n",
      "Epoch 4/10\n",
      "\u001b[1m44/44\u001b[0m \u001b[32m━━━━━━━━━━━━━━━━━━━━\u001b[0m\u001b[37m\u001b[0m \u001b[1m0s\u001b[0m 715us/step - accuracy: 0.5772 - loss: 0.6834 - val_accuracy: 0.5819 - val_loss: 0.6822\n",
      "Epoch 5/10\n",
      "\u001b[1m44/44\u001b[0m \u001b[32m━━━━━━━━━━━━━━━━━━━━\u001b[0m\u001b[37m\u001b[0m \u001b[1m0s\u001b[0m 761us/step - accuracy: 0.5778 - loss: 0.6833 - val_accuracy: 0.5819 - val_loss: 0.6821\n",
      "Epoch 6/10\n",
      "\u001b[1m44/44\u001b[0m \u001b[32m━━━━━━━━━━━━━━━━━━━━\u001b[0m\u001b[37m\u001b[0m \u001b[1m0s\u001b[0m 741us/step - accuracy: 0.5798 - loss: 0.6825 - val_accuracy: 0.5819 - val_loss: 0.6818\n",
      "Epoch 7/10\n",
      "\u001b[1m44/44\u001b[0m \u001b[32m━━━━━━━━━━━━━━━━━━━━\u001b[0m\u001b[37m\u001b[0m \u001b[1m0s\u001b[0m 793us/step - accuracy: 0.5800 - loss: 0.6823 - val_accuracy: 0.5819 - val_loss: 0.6815\n",
      "Epoch 8/10\n",
      "\u001b[1m44/44\u001b[0m \u001b[32m━━━━━━━━━━━━━━━━━━━━\u001b[0m\u001b[37m\u001b[0m \u001b[1m0s\u001b[0m 731us/step - accuracy: 0.5796 - loss: 0.6821 - val_accuracy: 0.5819 - val_loss: 0.6813\n",
      "Epoch 9/10\n",
      "\u001b[1m44/44\u001b[0m \u001b[32m━━━━━━━━━━━━━━━━━━━━\u001b[0m\u001b[37m\u001b[0m \u001b[1m0s\u001b[0m 753us/step - accuracy: 0.5797 - loss: 0.6820 - val_accuracy: 0.5819 - val_loss: 0.6811\n",
      "Epoch 10/10\n",
      "\u001b[1m44/44\u001b[0m \u001b[32m━━━━━━━━━━━━━━━━━━━━\u001b[0m\u001b[37m\u001b[0m \u001b[1m0s\u001b[0m 861us/step - accuracy: 0.5796 - loss: 0.6819 - val_accuracy: 0.5819 - val_loss: 0.6815\n"
     ]
    }
   ],
   "source": [
    "history=model.fit(X_train, y_train, validation_data=(X_test,y_test), epochs=10, batch_size=2048)"
   ]
  },
  {
   "cell_type": "code",
   "execution_count": 7,
   "id": "721de700-ad46-42e2-97df-a94831bdceac",
   "metadata": {},
   "outputs": [
    {
     "data": {
      "image/png": "[encoded data removed]",
      "text/plain": [
       "<Figure size 640x480 with 1 Axes>"
      ]
     },
     "metadata": {},
     "output_type": "display_data"
    }
   ],
   "source": [
    "loss_history=history.history[\"loss\"]\n",
    "plt.plot(range(len(loss_history)),loss_history)\n",
    "plt.show()"
   ]
  },
  {
   "cell_type": "code",
   "execution_count": 9,
   "id": "45395083-524b-43d7-ba34-8a56ada0e1cc",
   "metadata": {},
   "outputs": [
    {
     "name": "stdout",
     "output_type": "stream",
     "text": [
      "\u001b[1m313/313\u001b[0m \u001b[32m━━━━━━━━━━━━━━━━━━━━\u001b[0m\u001b[37m\u001b[0m \u001b[1m0s\u001b[0m 248us/step\n"
     ]
    },
    {
     "data": {
      "image/png": "[encoded data removed]",
      "text/plain": [
       "<Figure size 640x480 with 1 Axes>"
      ]
     },
     "metadata": {},
     "output_type": "display_data"
    }
   ],
   "source": [
    "##### Here we make use of a function in scikit-learn to calculate the ROC curve\n",
    "from sklearn.metrics import roc_curve, auc\n",
    "fpr, tpr, _ = roc_curve(y_test, model.predict(X_test))\n",
    "                        \n",
    "roc_auc = auc(fpr, tpr)\n",
    "\n",
    "# Plot the ROC curve from the NN and overlay the ROC curve from the 1D classifier\n",
    "plt.clf()\n",
    "plt.axes().set_aspect('equal')\n",
    "#plt.plot(ROCx,ROCy,label=\"LLR\")\n",
    "plt.plot(tpr,fpr,color='darkorange',label='ROC curve (area = %0.2f)' % roc_auc)\n",
    "plt.plot([0,1],[0,1],linestyle='--',color=\"#C0C0C0\",label=\"Random\")\n",
    "plt.xlabel('Pr(label signal | signal)')\n",
    "plt.ylabel('Pr(label signal | background)')\n",
    "plt.title(r'ROC Curve')\n",
    "plt.axis([0, 1, 0, 1])\n",
    "plt.legend(loc='upper left')\n",
    "plt.show()"
   ]
  }
 ],
 "metadata": {
  "kernelspec": {
   "display_name": "Python 3 (ipykernel)",
   "language": "python",
   "name": "python3"
  },
  "language_info": {
   "codemirror_mode": {
    "name": "ipython",
    "version": 3
   },
   "file_extension": ".py",
   "mimetype": "text/x-python",
   "name": "python",
   "nbconvert_exporter": "python",
   "pygments_lexer": "ipython3",
   "version": "3.11.8"
  }
 },
 "nbformat": 4,
 "nbformat_minor": 5
}
